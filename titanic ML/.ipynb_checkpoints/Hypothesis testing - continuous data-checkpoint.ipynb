{
 "cells": [
  {
   "cell_type": "code",
   "execution_count": 65,
   "metadata": {},
   "outputs": [],
   "source": [
    "import pandas as pd\n",
    "import numpy as np\n",
    "import matplotlib.pyplot as plt\n",
    "import seaborn as sns\n",
    "import scipy.stats as stats\n",
    "import math\n",
    "\n",
    "%matplotlib inline"
   ]
  },
  {
   "cell_type": "markdown",
   "metadata": {},
   "source": [
    "# One sample t-test \n",
    "Does sample mean differ from  population mean"
   ]
  },
  {
   "cell_type": "code",
   "execution_count": 66,
   "metadata": {},
   "outputs": [
    {
     "data": {
      "text/plain": [
       "38.004996"
      ]
     },
     "execution_count": 66,
     "metadata": {},
     "output_type": "execute_result"
    }
   ],
   "source": [
    "# USA/Population Ages\n",
    "population_ages1 = stats.poisson.rvs(loc = 18, mu = 35, size = 100000)\n",
    "population_ages2 = stats.poisson.rvs(loc = 18, mu = 10, size = 150000)\n",
    "\n",
    "population_ages = np.concatenate((population_ages1,population_ages2))\n",
    "population_ages.mean()"
   ]
  },
  {
   "cell_type": "code",
   "execution_count": 67,
   "metadata": {},
   "outputs": [
    {
     "data": {
      "text/plain": [
       "36.404"
      ]
     },
     "execution_count": 67,
     "metadata": {},
     "output_type": "execute_result"
    }
   ],
   "source": [
    "# California Ages\n",
    "california_ages1 = stats.poisson.rvs(loc = 18, mu = 30, size = 100)\n",
    "california_ages2 = stats.poisson.rvs(loc = 18, mu = 10, size = 150)\n",
    "\n",
    "california_ages = np.concatenate((california_ages1,california_ages2))\n",
    "california_ages.mean()"
   ]
  },
  {
   "cell_type": "markdown",
   "metadata": {},
   "source": [
    "*We conduct a t-test at 95% confidence to check wheather sample mean age differ from population mean age.*\n",
    "\n",
    "**Null hypothesis is = mean ages do not differ**"
   ]
  },
  {
   "cell_type": "code",
   "execution_count": 68,
   "metadata": {},
   "outputs": [
    {
     "data": {
      "text/plain": [
       "Ttest_1sampResult(statistic=-2.2620727925468826, pvalue=0.024555518502154285)"
      ]
     },
     "execution_count": 68,
     "metadata": {},
     "output_type": "execute_result"
    }
   ],
   "source": [
    "stats.ttest_1samp(a = california_ages,popmean = population_ages.mean())"
   ]
  },
  {
   "cell_type": "code",
   "execution_count": 69,
   "metadata": {},
   "outputs": [
    {
     "data": {
      "text/plain": [
       "-1.9695368676395828"
      ]
     },
     "execution_count": 69,
     "metadata": {},
     "output_type": "execute_result"
    }
   ],
   "source": [
    "stats.t.ppf(q = 0.025, df = 249)   # calculating t-alpha"
   ]
  },
  {
   "cell_type": "code",
   "execution_count": 70,
   "metadata": {},
   "outputs": [
    {
     "data": {
      "text/plain": [
       "0.006803654671954885"
      ]
     },
     "execution_count": 70,
     "metadata": {},
     "output_type": "execute_result"
    }
   ],
   "source": [
    "stats.t.cdf(x = -2.7291005440102665, df = 249)*2   # calculating p-value to match with stats.ttest_1samp pvalue"
   ]
  },
  {
   "cell_type": "markdown",
   "metadata": {},
   "source": [
    "**We reject the NULL hypothesis** i.e. No sufficient evidence to infer California age mean is equal to population age mean. "
   ]
  },
  {
   "cell_type": "code",
   "execution_count": 71,
   "metadata": {},
   "outputs": [
    {
     "data": {
      "text/plain": [
       "(35.01283880619037, 37.79516119380963)"
      ]
     },
     "execution_count": 71,
     "metadata": {},
     "output_type": "execute_result"
    }
   ],
   "source": [
    "#95% confidence level interval for California mean does not capture population mean\n",
    "\n",
    "stats.t.interval(alpha = 0.95, df = 249, loc = california_ages.mean(), scale = california_ages.std()/math.sqrt(250))"
   ]
  },
  {
   "cell_type": "code",
   "execution_count": 72,
   "metadata": {},
   "outputs": [
    {
     "data": {
      "text/plain": [
       "(34.57054266558209, 38.23745733441792)"
      ]
     },
     "execution_count": 72,
     "metadata": {},
     "output_type": "execute_result"
    }
   ],
   "source": [
    "#99%confidence level interval for California mean captures population mean\n",
    "\n",
    "stats.t.interval(alpha = 0.99, df = 249, loc = california_ages.mean(), scale = california_ages.std()/math.sqrt(250))"
   ]
  },
  {
   "cell_type": "markdown",
   "metadata": {},
   "source": [
    "# Two sample t-test\n",
    "\n",
    "Do means of two independant data samples differ from one another"
   ]
  },
  {
   "cell_type": "code",
   "execution_count": 80,
   "metadata": {},
   "outputs": [
    {
     "data": {
      "text/plain": [
       "39.36"
      ]
     },
     "execution_count": 80,
     "metadata": {},
     "output_type": "execute_result"
    }
   ],
   "source": [
    "texas_ages1 = stats.poisson.rvs(loc = 18, mu = 30, size = 30)\n",
    "texas_ages2 = stats.poisson.rvs(loc = 18, mu = 10, size = 20)\n",
    "texas_ages = np.concatenate((texas_ages1,texas_ages2))\n",
    "\n",
    "texas_ages.mean()"
   ]
  },
  {
   "cell_type": "code",
   "execution_count": 83,
   "metadata": {},
   "outputs": [
    {
     "data": {
      "text/plain": [
       "Ttest_indResult(statistic=1.8819043338945496, pvalue=0.063668921622248)"
      ]
     },
     "execution_count": 83,
     "metadata": {},
     "output_type": "execute_result"
    }
   ],
   "source": [
    "stats.ttest_ind(a = texas_ages, b = california_ages, equal_var = False)"
   ]
  },
  {
   "cell_type": "markdown",
   "metadata": {},
   "source": [
    "p value is grter than the significance. therefore we do not reject the hypothesis that the sample means are same"
   ]
  },
  {
   "cell_type": "markdown",
   "metadata": {},
   "source": [
    "# Paired t test\n",
    "\n",
    "We create data about patients' weight before and after a weight loss program.\n",
    "The weight data is normally distributed"
   ]
  },
  {
   "cell_type": "code",
   "execution_count": 95,
   "metadata": {},
   "outputs": [],
   "source": [
    "before = stats.norm.rvs(loc = 250, scale = 30, size = 100)\n",
    "after = before - stats.norm.rvs(loc = 5, scale = 5, size = 100)\n",
    "weights = pd.DataFrame({'before_weight': before,\n",
    "                        'after_weight': after,\n",
    "                        'weight_loss': before - after})"
   ]
  },
  {
   "cell_type": "code",
   "execution_count": 96,
   "metadata": {},
   "outputs": [
    {
     "data": {
      "text/html": [
       "<div>\n",
       "<style scoped>\n",
       "    .dataframe tbody tr th:only-of-type {\n",
       "        vertical-align: middle;\n",
       "    }\n",
       "\n",
       "    .dataframe tbody tr th {\n",
       "        vertical-align: top;\n",
       "    }\n",
       "\n",
       "    .dataframe thead th {\n",
       "        text-align: right;\n",
       "    }\n",
       "</style>\n",
       "<table border=\"1\" class=\"dataframe\">\n",
       "  <thead>\n",
       "    <tr style=\"text-align: right;\">\n",
       "      <th></th>\n",
       "      <th>before_weight</th>\n",
       "      <th>after_weight</th>\n",
       "      <th>weight_loss</th>\n",
       "    </tr>\n",
       "  </thead>\n",
       "  <tbody>\n",
       "    <tr>\n",
       "      <th>count</th>\n",
       "      <td>100.000000</td>\n",
       "      <td>100.000000</td>\n",
       "      <td>100.000000</td>\n",
       "    </tr>\n",
       "    <tr>\n",
       "      <th>mean</th>\n",
       "      <td>249.730113</td>\n",
       "      <td>245.291020</td>\n",
       "      <td>4.439093</td>\n",
       "    </tr>\n",
       "    <tr>\n",
       "      <th>std</th>\n",
       "      <td>28.134868</td>\n",
       "      <td>28.897596</td>\n",
       "      <td>5.300107</td>\n",
       "    </tr>\n",
       "    <tr>\n",
       "      <th>min</th>\n",
       "      <td>182.521426</td>\n",
       "      <td>177.382945</td>\n",
       "      <td>-6.999968</td>\n",
       "    </tr>\n",
       "    <tr>\n",
       "      <th>25%</th>\n",
       "      <td>229.915754</td>\n",
       "      <td>225.417047</td>\n",
       "      <td>1.414571</td>\n",
       "    </tr>\n",
       "    <tr>\n",
       "      <th>50%</th>\n",
       "      <td>249.001917</td>\n",
       "      <td>245.974963</td>\n",
       "      <td>4.012442</td>\n",
       "    </tr>\n",
       "    <tr>\n",
       "      <th>75%</th>\n",
       "      <td>269.007308</td>\n",
       "      <td>261.888421</td>\n",
       "      <td>6.896199</td>\n",
       "    </tr>\n",
       "    <tr>\n",
       "      <th>max</th>\n",
       "      <td>318.978788</td>\n",
       "      <td>313.984570</td>\n",
       "      <td>18.497795</td>\n",
       "    </tr>\n",
       "  </tbody>\n",
       "</table>\n",
       "</div>"
      ],
      "text/plain": [
       "       before_weight  after_weight  weight_loss\n",
       "count     100.000000    100.000000   100.000000\n",
       "mean      249.730113    245.291020     4.439093\n",
       "std        28.134868     28.897596     5.300107\n",
       "min       182.521426    177.382945    -6.999968\n",
       "25%       229.915754    225.417047     1.414571\n",
       "50%       249.001917    245.974963     4.012442\n",
       "75%       269.007308    261.888421     6.896199\n",
       "max       318.978788    313.984570    18.497795"
      ]
     },
     "execution_count": 96,
     "metadata": {},
     "output_type": "execute_result"
    }
   ],
   "source": [
    "weights.describe()"
   ]
  },
  {
   "cell_type": "code",
   "execution_count": 97,
   "metadata": {},
   "outputs": [
    {
     "data": {
      "text/plain": [
       "Ttest_relResult(statistic=8.375476573459151, pvalue=3.7405157378347123e-13)"
      ]
     },
     "execution_count": 97,
     "metadata": {},
     "output_type": "execute_result"
    }
   ],
   "source": [
    "stats.ttest_rel(a = weights['before_weight'],b = weights['after_weight'], axis = 0)"
   ]
  },
  {
   "cell_type": "code",
   "execution_count": null,
   "metadata": {},
   "outputs": [],
   "source": []
  }
 ],
 "metadata": {
  "kernelspec": {
   "display_name": "Python 3",
   "language": "python",
   "name": "python3"
  },
  "language_info": {
   "codemirror_mode": {
    "name": "ipython",
    "version": 3
   },
   "file_extension": ".py",
   "mimetype": "text/x-python",
   "name": "python",
   "nbconvert_exporter": "python",
   "pygments_lexer": "ipython3",
   "version": "3.7.0"
  }
 },
 "nbformat": 4,
 "nbformat_minor": 2
}
